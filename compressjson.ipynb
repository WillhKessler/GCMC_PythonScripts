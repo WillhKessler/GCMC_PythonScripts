{
 "cells": [
  {
   "cell_type": "code",
   "execution_count": 69,
   "metadata": {},
   "outputs": [],
   "source": [
    "import json\n",
    "import re\n",
    "\n",
    "\n"
   ]
  },
  {
   "cell_type": "code",
   "execution_count": 70,
   "metadata": {},
   "outputs": [
    {
     "data": {
      "text/plain": [
       "'{\\n    \"id\" : \"a plus plus\",\\n    \"emailAddress\" : \"a@a.com\",\\n    \"name\" : \"abc\"\\n}\\n{\\n    \"id\" : \"b\",\\n    \"emailAddress\" : \"b@b.com\",\\n    \"name\" : \"def\"\\n}\\n{\\n    \"id\" : \"c\",\\n    \"emailAddress\" : \"c@c.com\",\\n    \"name\" : \"ghi\"\\n}\\n'"
      ]
     },
     "execution_count": 70,
     "metadata": {},
     "output_type": "execute_result"
    }
   ],
   "source": [
    "\n",
    "file_path = \"S:\\\\GCMC\\\\_Code\\\\TESTING_Datasets\\\\testjson.json\" \n",
    "\n",
    "\n",
    "content = open(file_path, \"r\").read() \n",
    "content\n",
    "\n"
   ]
  },
  {
   "cell_type": "code",
   "execution_count": 71,
   "metadata": {},
   "outputs": [
    {
     "data": {
      "text/plain": [
       "'{\"id\" : \"a plus plus\",\"emailAddress\" : \"a@a.com\",\"name\" : \"abc\"}{\"id\" : \"b\",\"emailAddress\" : \"b@b.com\",\"name\" : \"def\"}{\"id\" : \"c\",\"emailAddress\" : \"c@c.com\",\"name\" : \"ghi\"}'"
      ]
     },
     "execution_count": 71,
     "metadata": {},
     "output_type": "execute_result"
    }
   ],
   "source": [
    "#j_content = content.replace(\"\\n  \",\"\")\n",
    "\n",
    "#j_content = re.sub('\\n',\"\",content)\n",
    "j_content = re.sub('\\n *',\"\",content)\n",
    "j_content"
   ]
  },
  {
   "cell_type": "code",
   "execution_count": 72,
   "metadata": {},
   "outputs": [
    {
     "data": {
      "text/plain": [
       "'{\"id\":\"a plus plus\",\"emailAddress\":\"a@a.com\",\"name\":\"abc\"}\\n{\"id\":\"b\",\"emailAddress\":\"b@b.com\",\"name\":\"def\"}\\n{\"id\":\"c\",\"emailAddress\":\"c@c.com\",\"name\":\"ghi\"}\\n'"
      ]
     },
     "execution_count": 72,
     "metadata": {},
     "output_type": "execute_result"
    }
   ],
   "source": [
    "j_content = j_content.replace(\"}{\",\"}\\n{\").replace(\" : \",\":\")\n",
    "j_content\n",
    "j_content = j_content+\"\\n\"\n",
    "j_content"
   ]
  },
  {
   "cell_type": "code",
   "execution_count": 50,
   "metadata": {},
   "outputs": [],
   "source": [
    "\n",
    "# Writing to sample.json\n",
    "with open(\"sample.jsonl\", \"w\") as outfile:\n",
    "    outfile.write(j_content) "
   ]
  }
 ],
 "metadata": {
  "kernelspec": {
   "display_name": "Python 3",
   "language": "python",
   "name": "python3"
  },
  "language_info": {
   "codemirror_mode": {
    "name": "ipython",
    "version": 3
   },
   "file_extension": ".py",
   "mimetype": "text/x-python",
   "name": "python",
   "nbconvert_exporter": "python",
   "pygments_lexer": "ipython3",
   "version": "3.9.16"
  },
  "orig_nbformat": 4
 },
 "nbformat": 4,
 "nbformat_minor": 2
}
